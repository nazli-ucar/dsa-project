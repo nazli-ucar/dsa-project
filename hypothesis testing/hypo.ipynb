{
 "cells": [
  {
   "cell_type": "code",
   "execution_count": 1,
   "id": "a9f462c1-4c60-4f9a-b250-d533b8f963e0",
   "metadata": {},
   "outputs": [
    {
     "name": "stdout",
     "output_type": "stream",
     "text": [
      "Hypothesis Test Results (α = 0.05):\n",
      "\n",
      "Temperature does NOT have a statistically significant effect on accident count (p = 0.7526) → Fail to reject H₀\n",
      "Windgust has a statistically significant effect on accident count (p = 0.0001) → Reject H₀\n",
      "Humidity has a statistically significant effect on accident count (p = 0.0116) → Reject H₀\n",
      "\n",
      "R² score of the model: 0.0754\n",
      "Model explains very little of the variation in accident count.\n"
     ]
    }
   ],
   "source": [
    "import pandas as pd\n",
    "import statsmodels.api as sm\n",
    "\n",
    "# Load your dataset\n",
    "df = pd.read_excel(\"final_numeric_weather_accidents.xlsx\")  # adjust path if needed\n",
    "\n",
    "# Define independent variables and target\n",
    "X = df[['Temperature', 'Windgust', 'Humidity']]\n",
    "y = df['Accident Count']\n",
    "\n",
    "# Add constant to the model\n",
    "X = sm.add_constant(X)\n",
    "\n",
    "# Fit the model\n",
    "model = sm.OLS(y, X).fit()\n",
    "\n",
    "# Extract p-values and R²\n",
    "pvals = model.pvalues\n",
    "r2 = model.rsquared\n",
    "\n",
    "# --- Interpret Results ---\n",
    "print(\"Hypothesis Test Results (α = 0.05):\\n\")\n",
    "\n",
    "for feature in ['Temperature', 'Windgust', 'Humidity']:\n",
    "    p = pvals[feature]\n",
    "    if p < 0.05:\n",
    "        print(f\"{feature} has a statistically significant effect on accident count (p = {p:.4f}) → Reject H₀\")\n",
    "    else:\n",
    "        print(f\"{feature} does NOT have a statistically significant effect on accident count (p = {p:.4f}) → Fail to reject H₀\")\n",
    "\n",
    "# --- R² Interpretation ---\n",
    "print(f\"\\nR² score of the model: {r2:.4f}\")\n",
    "if r2 < 0.1:\n",
    "    print(\"Model explains very little of the variation in accident count.\")\n",
    "elif r2 < 0.5:\n",
    "    print(\"Model explains a moderate amount of the variation in accident count.\")\n",
    "else:\n",
    "    print(\"Model explains a strong portion of the variation in accident count.\")\n"
   ]
  },
  {
   "cell_type": "code",
   "execution_count": null,
   "id": "2ee86a57-8890-4faa-9f3b-a3b3ab823cca",
   "metadata": {},
   "outputs": [],
   "source": []
  }
 ],
 "metadata": {
  "kernelspec": {
   "display_name": "Python 3 (ipykernel)",
   "language": "python",
   "name": "python3"
  },
  "language_info": {
   "codemirror_mode": {
    "name": "ipython",
    "version": 3
   },
   "file_extension": ".py",
   "mimetype": "text/x-python",
   "name": "python",
   "nbconvert_exporter": "python",
   "pygments_lexer": "ipython3",
   "version": "3.12.7"
  }
 },
 "nbformat": 4,
 "nbformat_minor": 5
}
